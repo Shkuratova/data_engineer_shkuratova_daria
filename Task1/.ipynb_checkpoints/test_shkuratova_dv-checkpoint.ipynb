{
 "cells": [
  {
   "metadata": {},
   "cell_type": "markdown",
   "source": [
    "## Сущности БД\n",
    "\n",
    "- Users\n",
    "  - guid uuid, pk \n",
    "  - username varchar(100) unique not null\n",
    "  - date_created timestamp\n",
    "    \n",
    "\n",
    "- Forum Themes\n",
    "    - guid uuid\n",
    "    - user_guid uuid \n",
    "    - title varchar(200)\n",
    "        \n",
    "\n",
    "- User logs\n",
    "    - guid uuid pk\n",
    "    - user_guid uuid ref\n",
    "    - log_type_guid uuid ref\n",
    "    - log_date timestamp\n",
    "    - server_response int IN(0,1)\n",
    "    - message_id uuid ref\n",
    "    - theme_guid uuid ref\n",
    "  \n",
    "\n",
    "- log types\n",
    "    - guid uuid pk\n",
    "    - user_action varchar(100)\n",
    "\n",
    "\n",
    "- Messages\n",
    "    - guid uuid pk \n",
    "    - theme_guid uuid ref\n",
    "    - user_guid uuid ref\n",
    "    - body text"
   ],
   "id": "6b9d986e51559bad"
  },
  {
   "metadata": {},
   "cell_type": "markdown",
   "source": "![logsddl.png](logsddl.png)",
   "id": "618f2195b542cd2c"
  },
  {
   "metadata": {
    "ExecuteTime": {
     "end_time": "2025-03-10T11:54:52.469495Z",
     "start_time": "2025-03-10T11:54:52.135065Z"
    }
   },
   "cell_type": "code",
   "source": "import pandas as pd\n",
   "id": "461313239ee969d0",
   "outputs": [],
   "execution_count": 1
  },
  {
   "metadata": {},
   "cell_type": "markdown",
   "source": [
    "\n",
    "```PostgreSQL\n",
    "\n",
    "with new_accounts as (\n",
    "select date_joined::date, count(*) as new_users\n",
    "from users\n",
    "where date_joined  between '2025-02-01' and '2025-03-11'\n",
    "group by date_joined::date\n",
    "),\n",
    "message_count as (\n",
    "select date_created::date,\n",
    "       sum(case when user_guid is null\n",
    "           then 1\n",
    "           else 0 end\n",
    "       )*100 / count(*) as anon_pcnt,\n",
    "       count(*) as msg_cnt\n",
    "from messages\n",
    "where date_created  between '2025-02-01' and '2025-03-11'\n",
    "group by date_created::date\n",
    "),\n",
    "topic_count_by_day as (\n",
    "select log_date::date,\n",
    "       sum(case when event_name ='topic creation'\n",
    "            then 1\n",
    "            else -1 end)  as topic_cnt\n",
    "from logs\n",
    "inner join log_event lg on lg.guid = logs.event_guid\n",
    "where event_name in ('topic creation', 'delete topic') and\n",
    "      response_status_code = 1 and\n",
    "      log_date between '2025-02-01' and '2025-03-11'\n",
    "group by log_date :: date\n",
    "),\n",
    "preffix_sum  as (\n",
    "select log_date,\n",
    "topic_cnt,\n",
    "sum(topic_cnt) over (order by log_date) as topic_sum\n",
    "from topic_count_by_day\n",
    ")\n",
    "select log_date,\n",
    "       new_users,\n",
    "       anon_pcnt,\n",
    "       msg_cnt,\n",
    "       round(topic_cnt*100*lag(1/topic_sum, 1, 0) over (order by log_date), 1) as new_topic_pcnt\n",
    "from preffix_sum\n",
    "inner join new_accounts na on na.date_joined = log_date\n",
    "inner join message_count mc on mc.date_created = log_date;\n",
    "\n",
    "\n",
    "\n",
    "```\n"
   ],
   "id": "96dd050dc141af5a"
  },
  {
   "metadata": {},
   "cell_type": "markdown",
   "source": "",
   "id": "a8402c63d484f72"
  }
 ],
 "metadata": {
  "kernelspec": {
   "display_name": "Python 3",
   "language": "python",
   "name": "python3"
  },
  "language_info": {
   "codemirror_mode": {
    "name": "ipython",
    "version": 2
   },
   "file_extension": ".py",
   "mimetype": "text/x-python",
   "name": "python",
   "nbconvert_exporter": "python",
   "pygments_lexer": "ipython2",
   "version": "2.7.6"
  }
 },
 "nbformat": 4,
 "nbformat_minor": 5
}
